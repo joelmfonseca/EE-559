{
 "cells": [
  {
   "cell_type": "code",
   "execution_count": 1,
   "metadata": {},
   "outputs": [],
   "source": [
    "#!/usr/bin/env python\n",
    "\n",
    "from utils import dlc_practical_prologue as prologue\n",
    "from utils.helpers import compute_nb_errors, train_model, update_target_type\n",
    "\n",
    "from models.proj1.weightSharing import WeightSharing\n",
    "\n",
    "import torch\n",
    "\n",
    "from torch import optim\n",
    "from torch.autograd import Variable\n",
    "\n",
    "import matplotlib\n",
    "import cv2"
   ]
  },
  {
   "cell_type": "code",
   "execution_count": 2,
   "metadata": {},
   "outputs": [
    {
     "name": "stderr",
     "output_type": "stream",
     "text": [
      "/home/mbanga/.pyenv/versions/deeplearning/lib/python3.7/site-packages/torchvision/datasets/mnist.py:53: UserWarning: train_data has been renamed data\n",
      "  warnings.warn(\"train_data has been renamed data\")\n",
      "/home/mbanga/.pyenv/versions/deeplearning/lib/python3.7/site-packages/torchvision/datasets/mnist.py:43: UserWarning: train_labels has been renamed targets\n",
      "  warnings.warn(\"train_labels has been renamed targets\")\n",
      "/home/mbanga/.pyenv/versions/deeplearning/lib/python3.7/site-packages/torchvision/datasets/mnist.py:58: UserWarning: test_data has been renamed data\n",
      "  warnings.warn(\"test_data has been renamed data\")\n",
      "/home/mbanga/.pyenv/versions/deeplearning/lib/python3.7/site-packages/torchvision/datasets/mnist.py:48: UserWarning: test_labels has been renamed targets\n",
      "  warnings.warn(\"test_labels has been renamed targets\")\n"
     ]
    }
   ],
   "source": [
    "# load the data\n",
    "train_input, train_target, train_classes, test_input, test_target, test_classes = \\\n",
    "    prologue.generate_pair_sets(nb=1000)"
   ]
  },
  {
   "cell_type": "code",
   "execution_count": 3,
   "metadata": {},
   "outputs": [],
   "source": [
    "def standard_wrapper(*data):\n",
    "    return [Variable(t) for t in data]"
   ]
  },
  {
   "cell_type": "code",
   "execution_count": 4,
   "metadata": {},
   "outputs": [],
   "source": [
    "def custom_wrapper(*data):\n",
    "    return None"
   ]
  },
  {
   "cell_type": "code",
   "execution_count": 5,
   "metadata": {},
   "outputs": [],
   "source": [
    "def wrap_data(*data, type_='standard'):\n",
    "    switch = {\n",
    "        'standard': standard_wrapper,\n",
    "        'Net3': custom_wrapper\n",
    "    }\n",
    "    \n",
    "    return switch.get(type_, None)(*data)    "
   ]
  },
  {
   "cell_type": "code",
   "execution_count": 6,
   "metadata": {},
   "outputs": [
    {
     "name": "stdout",
     "output_type": "stream",
     "text": [
      "model: WeightSharing, criterion: BCEWithLogitsLoss, optimizer:        SGD, learning rate:    0.1, num epochs:  25, mini batch size: 100, training time:  3.42, train error:  4.50%, test error: 13.80%\n",
      "model: WeightSharing, criterion: BCEWithLogitsLoss, optimizer:        SGD, learning rate:   0.01, num epochs:  25, mini batch size: 100, training time:  3.05, train error:  1.60%, test error: 13.90%\n",
      "model: WeightSharing, criterion: BCEWithLogitsLoss, optimizer:        SGD, learning rate:  0.001, num epochs:  25, mini batch size: 100, training time:  3.08, train error:  1.40%, test error: 13.90%\n",
      "model: WeightSharing, criterion: BCEWithLogitsLoss, optimizer:       Adam, learning rate:    0.1, num epochs:  25, mini batch size: 100, training time:  3.15, train error: 44.90%, test error: 47.40%\n",
      "model: WeightSharing, criterion: BCEWithLogitsLoss, optimizer:       Adam, learning rate:   0.01, num epochs:  25, mini batch size: 100, training time:  3.15, train error: 44.90%, test error: 47.40%\n",
      "model: WeightSharing, criterion: BCEWithLogitsLoss, optimizer:       Adam, learning rate:  0.001, num epochs:  25, mini batch size: 100, training time:  3.34, train error: 44.90%, test error: 47.40%\n"
     ]
    }
   ],
   "source": [
    "# Compute mean and std for data\n",
    "mean, std = train_input.mean(), train_input.std()\n",
    "\n",
    "# Standardize data\n",
    "train_input.sub_(mean).div_(std)\n",
    "test_input.sub_(mean).div_(std)\n",
    "\n",
    "# Wrap data in a Variable object\n",
    "train_input, train_target, train_classes, test_input, test_target = \\\n",
    "    wrap_data(train_input, train_target, train_classes, test_input, test_target, type_='standard')\n",
    "\n",
    "\n",
    "train_input_Net3 = train_input.view(-1, 1, 14, 14)\n",
    "train_target_Net3 = train_classes.flatten()\n",
    "\n",
    "# test different configurations\n",
    "NB_EPOCHS = 25\n",
    "MINI_BATCH_SIZE = 100\n",
    "models = [WeightSharing]\n",
    "optimizers = [optim.SGD, optim.Adam]\n",
    "lrs = [1e-1, 1e-2, 1e-3]\n",
    "\n",
    "\n",
    "for m in models:\n",
    "    model = m()\n",
    "    train_target, test_target = update_target_type(model, train_target, test_target)\n",
    "    \n",
    "    for optim in optimizers:\n",
    "        for lr in lrs:\n",
    "                  \n",
    "            if model.__class__.__name__ == 'Net3':\n",
    "                training_time = train_model(model, optim(model.parameters(), lr=lr), NB_EPOCHS, \\\n",
    "                    train_input_Net3, train_target_Net3, MINI_BATCH_SIZE)\n",
    "            else:\n",
    "                training_time = train_model(model, optim(model.parameters(), lr=lr), NB_EPOCHS, \\\n",
    "                    train_input, train_target, MINI_BATCH_SIZE)\n",
    "\n",
    "            print('model: {:>5}, criterion: {:>10}, optimizer: {:>10}, learning rate: {:6}, num epochs: {:3}, '\n",
    "                'mini batch size: {:3}, training time: {:5.2f}, train error: {:5.2f}%, test error: {:5.2f}%'.format(\n",
    "                model.__class__.__name__,\n",
    "                model.criterion.__class__.__name__,\n",
    "                optim.__name__,\n",
    "                lr,\n",
    "                NB_EPOCHS,\n",
    "                MINI_BATCH_SIZE,\n",
    "                training_time,\n",
    "                compute_nb_errors(model, train_input, train_target, MINI_BATCH_SIZE) / train_input.size(0) * 100,\n",
    "                compute_nb_errors(model, test_input, test_target, MINI_BATCH_SIZE) / test_input.size(0) * 100\n",
    "                )\n",
    "                )                       "
   ]
  },
  {
   "cell_type": "code",
   "execution_count": null,
   "metadata": {},
   "outputs": [],
   "source": []
  }
 ],
 "metadata": {
  "kernelspec": {
   "display_name": "DeepLearning3.7.1",
   "language": "python",
   "name": "deeplearning3.7.1"
  },
  "language_info": {
   "codemirror_mode": {
    "name": "ipython",
    "version": 3
   },
   "file_extension": ".py",
   "mimetype": "text/x-python",
   "name": "python",
   "nbconvert_exporter": "python",
   "pygments_lexer": "ipython3",
   "version": "3.7.1"
  }
 },
 "nbformat": 4,
 "nbformat_minor": 2
}
