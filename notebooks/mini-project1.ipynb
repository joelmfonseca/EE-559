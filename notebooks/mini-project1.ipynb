{
 "cells": [
  {
   "cell_type": "code",
   "execution_count": 22,
   "metadata": {},
   "outputs": [],
   "source": [
    "#!/usr/bin/env python\n",
    "\n",
    "import os, sys, inspect\n",
    "currentdir = os.path.dirname(os.path.abspath(inspect.getfile(inspect.currentframe())))\n",
    "parentdir = os.path.dirname(currentdir)\n",
    "sys.path.insert(0,parentdir) \n",
    "\n",
    "from utils import dlc_practical_prologue as prologue\n",
    "from utils.helpers import compute_nb_errors, train_model, update_target_type\n",
    "\n",
    "from models.proj1.weightSharing import WeightSharing\n",
    "\n",
    "import torch\n",
    "\n",
    "from torch import optim\n",
    "from torch.autograd import Variable\n",
    "\n",
    "import matplotlib\n",
    "import cv2\n",
    "import random\n",
    "import numpy as np"
   ]
  },
  {
   "cell_type": "code",
   "execution_count": 2,
   "metadata": {},
   "outputs": [
    {
     "name": "stderr",
     "output_type": "stream",
     "text": [
      "/home/mbanga/.pyenv/versions/deeplearning/lib/python3.7/site-packages/torchvision/datasets/mnist.py:53: UserWarning: train_data has been renamed data\n",
      "  warnings.warn(\"train_data has been renamed data\")\n",
      "/home/mbanga/.pyenv/versions/deeplearning/lib/python3.7/site-packages/torchvision/datasets/mnist.py:43: UserWarning: train_labels has been renamed targets\n",
      "  warnings.warn(\"train_labels has been renamed targets\")\n",
      "/home/mbanga/.pyenv/versions/deeplearning/lib/python3.7/site-packages/torchvision/datasets/mnist.py:58: UserWarning: test_data has been renamed data\n",
      "  warnings.warn(\"test_data has been renamed data\")\n",
      "/home/mbanga/.pyenv/versions/deeplearning/lib/python3.7/site-packages/torchvision/datasets/mnist.py:48: UserWarning: test_labels has been renamed targets\n",
      "  warnings.warn(\"test_labels has been renamed targets\")\n"
     ]
    }
   ],
   "source": [
    "# load the data\n",
    "train_input, train_target, train_classes, test_input, test_target, test_classes = \\\n",
    "    prologue.generate_pair_sets(nb=1000)"
   ]
  },
  {
   "cell_type": "code",
   "execution_count": 3,
   "metadata": {},
   "outputs": [],
   "source": [
    "def standard_wrapper(*data):\n",
    "    return [Variable(t) for t in data]"
   ]
  },
  {
   "cell_type": "code",
   "execution_count": 4,
   "metadata": {},
   "outputs": [],
   "source": [
    "def custom_wrapper(*data):\n",
    "    return None"
   ]
  },
  {
   "cell_type": "code",
   "execution_count": 5,
   "metadata": {},
   "outputs": [],
   "source": [
    "def wrap_data(*data, type_='standard'):\n",
    "    switch = {\n",
    "        'standard': standard_wrapper,\n",
    "        'Net3': custom_wrapper\n",
    "    }\n",
    "    \n",
    "    return switch.get(type_, None)(*data)    "
   ]
  },
  {
   "cell_type": "code",
   "execution_count": 6,
   "metadata": {},
   "outputs": [],
   "source": [
    "def summary(model, optimizer, lr, training_time=None, NB_EPOCHS=None, MINI_BATCH_SIZE=None):\n",
    "    print('model: {:>5}, criterion: {:>10}, optimizer: {:>10}, learning rate: {:6}, num epochs: {:3}, '\n",
    "    'mini batch size: {:3}, training time: {:5.2f}, train error: {:5.2f}%, test error: {:5.2f}%'.format(\n",
    "        model.__class__.__name__,\n",
    "        model.criterion.__class__.__name__,\n",
    "        opt.__class__.__name__,\n",
    "        lr,\n",
    "        NB_EPOCHS,\n",
    "        MINI_BATCH_SIZE,\n",
    "        training_time,\n",
    "        compute_nb_errors(model, train_input, train_target, MINI_BATCH_SIZE) / train_input.size(0) * 100,\n",
    "        compute_nb_errors(model, test_input, test_target, MINI_BATCH_SIZE) / test_input.size(0) * 100\n",
    "        )\n",
    "    )"
   ]
  },
  {
   "cell_type": "code",
   "execution_count": 117,
   "metadata": {
    "scrolled": true
   },
   "outputs": [
    {
     "name": "stderr",
     "output_type": "stream",
     "text": [
      "WARNING:root:Setting up a new session...\n"
     ]
    },
    {
     "name": "stdout",
     "output_type": "stream",
     "text": [
      "model: WeightSharing, criterion: BCEWithLogitsLoss, optimizer:       type, learning rate:    0.1, num epochs:  25, mini batch size: 100, training time:  4.31, train error: 11.30%, test error: 17.80%\n"
     ]
    }
   ],
   "source": [
    "# Compute mean and std for data\n",
    "mean, std = train_input.mean(), train_input.std()\n",
    "\n",
    "# Standardize data\n",
    "train_input.sub_(mean).div_(std)\n",
    "test_input.sub_(mean).div_(std)\n",
    "\n",
    "# Wrap data in a Variable object\n",
    "train_input, train_target, train_classes, test_input, test_target = \\\n",
    "    wrap_data(train_input, train_target, train_classes, test_input, test_target, type_='standard')\n",
    "\n",
    "\n",
    "train_input_Net3 = train_input.view(-1, 1, 14, 14)\n",
    "train_target_Net3 = train_classes.flatten()\n",
    "\n",
    "# test different configurations\n",
    "NB_EPOCHS = 25\n",
    "MINI_BATCH_SIZE = 100\n",
    "models = [WeightSharing]\n",
    "opts = [torch.optim.SGD, torch.optim.Adam]\n",
    "lrs = [1e-1, 1e-2, 1e-3]\n",
    "\n",
    "\n",
    "for m in models:\n",
    "    model = m()\n",
    "    train_target, test_target = update_target_type(model, train_target, test_target)\n",
    "    for opt in opts[:1]:\n",
    "        for lr in lrs[:1]:      \n",
    "            tt = train_model(model, opt(model.parameters(), lr=lr), NB_EPOCHS, \\\n",
    "                    train_input, train_target, MINI_BATCH_SIZE)\n",
    "            \n",
    "            summary(model, opt, lr, training_time=tt, NB_EPOCHS=NB_EPOCHS, MINI_BATCH_SIZE=MINI_BATCH_SIZE)                   "
   ]
  },
  {
   "cell_type": "code",
   "execution_count": 8,
   "metadata": {},
   "outputs": [
    {
     "data": {
      "text/plain": [
       "0.001"
      ]
     },
     "execution_count": 8,
     "metadata": {},
     "output_type": "execute_result"
    }
   ],
   "source": [
    "optim = torch.optim.SGD(WeightSharing().parameters(), lr=0.001)\n",
    "\n",
    "optim.param_groups[0]['lr']"
   ]
  },
  {
   "cell_type": "code",
   "execution_count": 37,
   "metadata": {},
   "outputs": [],
   "source": [
    "import time\n",
    "from datetime import datetime\n",
    "import visdom\n",
    "from math import ceil"
   ]
  },
  {
   "cell_type": "code",
   "execution_count": 43,
   "metadata": {},
   "outputs": [],
   "source": [
    "def batch_iter(y, tx, batch_size, num_batches=1, shuffle=True):\n",
    "    \"\"\"\n",
    "    Generate a minibatch iterator for a dataset.\n",
    "    Takes as input two iterables (here the output desired values 'y' and the input data 'tx')\n",
    "    Outputs an iterator which gives mini-batches of `batch_size` matching elements from `y` and `tx`.\n",
    "    Data can be randomly shuffled to avoid ordering in the original data messing with the randomness of the minibatches.\n",
    "    Example of use :\n",
    "    for minibatch_y, minibatch_tx in batch_iter(y, tx, 32):\n",
    "        <DO-SOMETHING>\n",
    "    \"\"\"\n",
    "    random.seed(0)\n",
    "    data_size = len(y)\n",
    "\n",
    "    if shuffle:\n",
    "        shuffle_indices = np.random.permutation(np.arange(data_size))\n",
    "        shuffled_y = y[shuffle_indices]\n",
    "        shuffled_tx = tx[shuffle_indices]\n",
    "    else:\n",
    "        shuffled_y = y\n",
    "        shuffled_tx = tx\n",
    "    for batch_num in range(num_batches):\n",
    "        start_index = batch_num * batch_size\n",
    "        end_index = min((batch_num + 1) * batch_size, data_size)\n",
    "        if start_index != end_index:\n",
    "            yield shuffled_y[start_index:end_index], shuffled_tx[start_index:end_index]"
   ]
  },
  {
   "cell_type": "code",
   "execution_count": 25,
   "metadata": {},
   "outputs": [],
   "source": [
    "def split_data(y, tx, ratio=0.2):\n",
    "    assert len(y) == len(tx)\n",
    "    assert 0 < ratio and ratio < 1\n",
    "    \n",
    "    # set seed\n",
    "    random.seed(0)\n",
    "    data_size = len(y)\n",
    "\n",
    "    shuffle_indices = np.random.permutation(np.arange(data_size))\n",
    "    shuffled_y = y[shuffle_indices]\n",
    "    shuffled_tx = tx[shuffle_indices]\n",
    "    \n",
    "    cut = int(data_size*ratio)\n",
    "    return shuffled_tx[cut:], shuffled_tx[:cut], shuffled_y[cut:], shuffled_y[:cut]"
   ]
  },
  {
   "cell_type": "code",
   "execution_count": 116,
   "metadata": {},
   "outputs": [],
   "source": [
    "class Visualization():\n",
    "    def __init__(self, env_name=None):\n",
    "        if env_name is None:\n",
    "            env_name = str(datetime.now().strftime(\"%d-%m %Hh%M\"))\n",
    "        self.env_name = env_name\n",
    "        self.vis = visdom.Visdom(env=self.env_name)\n",
    "        self.loss_win = None\n",
    "        self.accuracy_win = None\n",
    "        \n",
    "    def plot_loss(self, loss, epoch, opt_name):\n",
    "        self.loss_win = self.vis.line(\n",
    "            [loss],\n",
    "            [epoch],\n",
    "            win=self.loss_win,\n",
    "            update='append' if self.loss_win else None,\n",
    "            opts=dict(\n",
    "                xlabel='epoch',\n",
    "                ylabel=opt_name,\n",
    "                title='Loss (mean per 10 steps)',\n",
    "            )\n",
    "        )\n",
    "        \n",
    "    def plot_accuracy(self, train_accuracy, validation_accuracy, epoch, opt_name):\n",
    "        self.accuracy_win = self.vis.line(\n",
    "            [train_accuracy],\n",
    "            [epoch],\n",
    "            win=self.accuracy_win,\n",
    "            update='append' if self.accuracy_win else None,\n",
    "            name='train',\n",
    "            opts=dict(\n",
    "                xlabel='epoch',\n",
    "                ylabel=opt_name,\n",
    "                title='% Accuracy (mean per 10 steps)',\n",
    "            )\n",
    "        )\n",
    "        \n",
    "        self.accuracy_win = self.vis.line(\n",
    "            [validation_accuracy],\n",
    "            [epoch],\n",
    "            win=self.accuracy_win,\n",
    "            update='append' if self.accuracy_win else None,\n",
    "            name='validation',\n",
    "            opts=dict(\n",
    "                xlabel='epoch',\n",
    "                ylabel=opt_name,\n",
    "                title='% Accuracy (mean per 10 steps)',\n",
    "            )\n",
    "        )"
   ]
  },
  {
   "cell_type": "code",
   "execution_count": 51,
   "metadata": {},
   "outputs": [],
   "source": [
    "def compute_accuracy(output, target, mini_batch_size):\n",
    "    assert len(output) == len(target) \n",
    "    # Define number of samples\n",
    "    nb_samples = len(output)\n",
    "    # Define number of batches\n",
    "    num_batches = ceil(len(output) / mini_batch_size)\n",
    "    \n",
    "    # initialize number of errors\n",
    "    nb_errors = 0\n",
    "    for x, y in batch_iter(output, target, mini_batch_size, num_batches=num_batches, shuffle=False):\n",
    "        for i in range(len(x)):\n",
    "            if x[i] != y[i]:\n",
    "                nb_errors += 1\n",
    "    \n",
    "    return 1 - nb_errors / len(output)"
   ]
  },
  {
   "cell_type": "code",
   "execution_count": 114,
   "metadata": {},
   "outputs": [],
   "source": [
    "def train_model(model, optimizer, nb_epochs, data_input, data_target,mini_batch_size):\n",
    "    train_input, validation_input, train_target, validation_target = split_data(data_target, data_input)\n",
    "    \n",
    "    n_samples = train_input.size(0)\n",
    "    \n",
    "    vis = Visualization()\n",
    "    losses = []\n",
    "    start = time.time()\n",
    "    for e in range(0,nb_epochs):\n",
    "        # Train the model during epoch e\n",
    "        model.train()\n",
    "        running_loss = 0.0\n",
    "        for b in range(0, n_samples, mini_batch_size):\n",
    "            # zero the parameter gradients\n",
    "            model.zero_grad()\n",
    "            # Forward pass\n",
    "            output = model(train_input.narrow(0, b, mini_batch_size))\n",
    "            # Get corresponding target values\n",
    "            target = train_target.narrow(0, b, mini_batch_size)\n",
    "            # Backward pass\n",
    "            loss = model.criterion(output, target)\n",
    "            loss.backward()                        \n",
    "            # Update weights\n",
    "            optimizer.step()\n",
    "            # Update loss\n",
    "            running_loss += loss.item()\n",
    "        \n",
    "        losses.append(running_loss)\n",
    "        # Get predictions of the model\n",
    "        preds = model.predict(train_input)\n",
    "        # Get current training accuracy \n",
    "        accuracy = compute_accuracy(preds, train_target, mini_batch_size)\n",
    "        \n",
    "\n",
    "        # Get metrcis on validation data for epoch e\n",
    "        model.eval()\n",
    "        # Forward pass\n",
    "        validation_preds = model.predict(validation_input)\n",
    "        # \n",
    "        validation_output = model(validation_input)\n",
    "        # Criteron\n",
    "        validation_loss = model.criterion(validation_output, validation_target)\n",
    "        # Get validation accuracy \n",
    "        validation_accuracy = compute_accuracy(validation_preds, validation_target, mini_batch_size)\n",
    "        \n",
    "        # Update accuracy plot\n",
    "        vis.plot_accuracy(accuracy, validation_accuracy, e, optimizer.__class__.__name__)\n",
    "        \n",
    "        \n",
    "        \n",
    "        vis.plot_loss(running_loss, e, optimizer.__class__.__name__)\n",
    "        end = time.time()\n",
    "\n",
    "    training_time = end-start\n",
    "\n",
    "    return training_time"
   ]
  }
 ],
 "metadata": {
  "kernelspec": {
   "display_name": "DeepLearning3.7.1",
   "language": "python",
   "name": "deeplearning3.7.1"
  },
  "language_info": {
   "codemirror_mode": {
    "name": "ipython",
    "version": 3
   },
   "file_extension": ".py",
   "mimetype": "text/x-python",
   "name": "python",
   "nbconvert_exporter": "python",
   "pygments_lexer": "ipython3",
   "version": "3.7.1"
  }
 },
 "nbformat": 4,
 "nbformat_minor": 2
}
