{
 "cells": [
  {
   "cell_type": "code",
   "execution_count": 12,
   "metadata": {},
   "outputs": [],
   "source": [
    "#!/usr/bin/env python\n",
    "\n",
    "import os, sys, inspect\n",
    "currentdir = os.path.dirname(os.path.abspath(inspect.getfile(inspect.currentframe())))\n",
    "parentdir = os.path.dirname(currentdir)\n",
    "sys.path.insert(0,parentdir) \n",
    "\n",
    "from utils import dlc_practical_prologue as prologue\n",
    "from utils.helpers import compute_nb_errors, train_model, update_target_type\n",
    "\n",
    "from models.proj1.weightSharing import WeightSharing\n",
    "\n",
    "import torch\n",
    "\n",
    "from torch import optim\n",
    "from torch.autograd import Variable\n",
    "\n",
    "import matplotlib\n",
    "import cv2"
   ]
  },
  {
   "cell_type": "code",
   "execution_count": 13,
   "metadata": {},
   "outputs": [
    {
     "name": "stderr",
     "output_type": "stream",
     "text": [
      "/home/mbanga/.pyenv/versions/deeplearning/lib/python3.7/site-packages/torchvision/datasets/mnist.py:53: UserWarning: train_data has been renamed data\n",
      "  warnings.warn(\"train_data has been renamed data\")\n",
      "/home/mbanga/.pyenv/versions/deeplearning/lib/python3.7/site-packages/torchvision/datasets/mnist.py:43: UserWarning: train_labels has been renamed targets\n",
      "  warnings.warn(\"train_labels has been renamed targets\")\n",
      "/home/mbanga/.pyenv/versions/deeplearning/lib/python3.7/site-packages/torchvision/datasets/mnist.py:58: UserWarning: test_data has been renamed data\n",
      "  warnings.warn(\"test_data has been renamed data\")\n",
      "/home/mbanga/.pyenv/versions/deeplearning/lib/python3.7/site-packages/torchvision/datasets/mnist.py:48: UserWarning: test_labels has been renamed targets\n",
      "  warnings.warn(\"test_labels has been renamed targets\")\n"
     ]
    }
   ],
   "source": [
    "# load the data\n",
    "train_input, train_target, train_classes, test_input, test_target, test_classes = \\\n",
    "    prologue.generate_pair_sets(nb=1000)"
   ]
  },
  {
   "cell_type": "code",
   "execution_count": 14,
   "metadata": {},
   "outputs": [],
   "source": [
    "def standard_wrapper(*data):\n",
    "    return [Variable(t) for t in data]"
   ]
  },
  {
   "cell_type": "code",
   "execution_count": 15,
   "metadata": {},
   "outputs": [],
   "source": [
    "def custom_wrapper(*data):\n",
    "    return None"
   ]
  },
  {
   "cell_type": "code",
   "execution_count": 16,
   "metadata": {},
   "outputs": [],
   "source": [
    "def wrap_data(*data, type_='standard'):\n",
    "    switch = {\n",
    "        'standard': standard_wrapper,\n",
    "        'Net3': custom_wrapper\n",
    "    }\n",
    "    \n",
    "    return switch.get(type_, None)(*data)    "
   ]
  },
  {
   "cell_type": "code",
   "execution_count": 54,
   "metadata": {},
   "outputs": [
    {
     "name": "stdout",
     "output_type": "stream",
     "text": [
      "tensor(0.6995, grad_fn=<BinaryCrossEntropyWithLogitsBackward>)\n",
      "tensor(0.6789, grad_fn=<BinaryCrossEntropyWithLogitsBackward>)\n",
      "tensor(0.6823, grad_fn=<BinaryCrossEntropyWithLogitsBackward>)\n",
      "tensor(0.6703, grad_fn=<BinaryCrossEntropyWithLogitsBackward>)\n",
      "tensor(0.6660, grad_fn=<BinaryCrossEntropyWithLogitsBackward>)\n",
      "tensor(0.7038, grad_fn=<BinaryCrossEntropyWithLogitsBackward>)\n",
      "tensor(0.6733, grad_fn=<BinaryCrossEntropyWithLogitsBackward>)\n",
      "tensor(0.6781, grad_fn=<BinaryCrossEntropyWithLogitsBackward>)\n",
      "tensor(0.6765, grad_fn=<BinaryCrossEntropyWithLogitsBackward>)\n",
      "tensor(0.6857, grad_fn=<BinaryCrossEntropyWithLogitsBackward>)\n",
      "model: WeightSharing, criterion: BCEWithLogitsLoss, optimizer:        SGD, learning rate:    0.1, num epochs:  25, mini batch size: 100, training time:  0.13, train error: 36.30%, test error: 39.40%\n"
     ]
    }
   ],
   "source": [
    "# Compute mean and std for data\n",
    "mean, std = train_input.mean(), train_input.std()\n",
    "\n",
    "# Standardize data\n",
    "train_input.sub_(mean).div_(std)\n",
    "test_input.sub_(mean).div_(std)\n",
    "\n",
    "# Wrap data in a Variable object\n",
    "train_input, train_target, train_classes, test_input, test_target = \\\n",
    "    wrap_data(train_input, train_target, train_classes, test_input, test_target, type_='standard')\n",
    "\n",
    "\n",
    "train_input_Net3 = train_input.view(-1, 1, 14, 14)\n",
    "train_target_Net3 = train_classes.flatten()\n",
    "\n",
    "# test different configurations\n",
    "NB_EPOCHS = 25\n",
    "MINI_BATCH_SIZE = 100\n",
    "models = [WeightSharing]\n",
    "optimizers = [torch.optim.SGD, torch.optim.Adam]\n",
    "lrs = [1e-1, 1e-2, 1e-3]\n",
    "\n",
    "\n",
    "for m in models:\n",
    "    model = m()\n",
    "    train_target, test_target = update_target_type(model, train_target, test_target)\n",
    "    for opt in optimizers[:1]:\n",
    "        for lr in lrs[:1]:      \n",
    "            training_time = train_model(model, opt(model.parameters(), lr=lr), NB_EPOCHS, \\\n",
    "                    train_input, train_target, MINI_BATCH_SIZE)\n",
    "\n",
    "            print('model: {:>5}, criterion: {:>10}, optimizer: {:>10}, learning rate: {:6}, num epochs: {:3}, '\n",
    "                'mini batch size: {:3}, training time: {:5.2f}, train error: {:5.2f}%, test error: {:5.2f}%'.format(\n",
    "                model.__class__.__name__,\n",
    "                model.criterion.__class__.__name__,\n",
    "                opt.__name__,\n",
    "                lr,\n",
    "                NB_EPOCHS,\n",
    "                MINI_BATCH_SIZE,\n",
    "                training_time,\n",
    "                compute_nb_errors(model, train_input, train_target, MINI_BATCH_SIZE) / train_input.size(0) * 100,\n",
    "                compute_nb_errors(model, test_input, test_target, MINI_BATCH_SIZE) / test_input.size(0) * 100\n",
    "                )\n",
    "                )                       "
   ]
  },
  {
   "cell_type": "code",
   "execution_count": 47,
   "metadata": {},
   "outputs": [
    {
     "data": {
      "text/plain": [
       "torch.optim.sgd.SGD"
      ]
     },
     "execution_count": 47,
     "metadata": {},
     "output_type": "execute_result"
    }
   ],
   "source": [
    "torch.optim.SGD"
   ]
  },
  {
   "cell_type": "code",
   "execution_count": 57,
   "metadata": {},
   "outputs": [],
   "source": [
    "import time\n",
    "from datetime import datetime\n",
    "import visdom"
   ]
  },
  {
   "cell_type": "code",
   "execution_count": null,
   "metadata": {},
   "outputs": [],
   "source": [
    "class Visualization():\n",
    "    def __init__(self, env_name=None):\n",
    "        if env_name is None:\n",
    "            env_name = str(datetime.now().strftime(\"%d-%m %Hh%M\"))\n",
    "        self.env_name = env_name\n",
    "        self.vis = visdom.Visdom(env=self.env_name)\n",
    "        self.loss_win = None\n",
    "        \n",
    "    def plot_loss(self, loss, step):\n",
    "        self.loss_win = self.vis.line(\n",
    "            [loss],\n",
    "            [step],\n",
    "            win=self.loss_win,\n",
    "            update='append' if self.loss_win else None,\n",
    "            opts=dict(\n",
    "                xlabel='Step',\n",
    "                ylabel='Loss',\n",
    "                title='Loss (mean per 10 steps)',\n",
    "            )\n",
    "        )"
   ]
  },
  {
   "cell_type": "code",
   "execution_count": 55,
   "metadata": {},
   "outputs": [],
   "source": [
    "def train_model(model, optimizer, nb_epochs, train_input, train_target ,mini_batch_size):\n",
    "    n_samples = train_input.size(0)\n",
    "    \n",
    "    start = time.time()\n",
    "    \n",
    "    losses = []\n",
    "    for e in range(0,nb_epochs):\n",
    "        running_loss = 0.0\n",
    "        for b in range(0, n_samples, mini_batch_size):\n",
    "            # zero the parameter gradients\n",
    "            model.zero_grad()\n",
    "            # Forward pass\n",
    "            output = model(train_input.narrow(0, b, mini_batch_size))\n",
    "            # Get corresponding target values\n",
    "            target = train_target.narrow(0, b, mini_batch_size)\n",
    "            # Backward pass\n",
    "            loss = model.criterion(output, target)\n",
    "            loss.backward()\n",
    "            # Update weights\n",
    "            optimizer.step()\n",
    "            # Update loss\n",
    "            running_loss += loss.item()\n",
    "        losses.append(running_loss)\n",
    "            \n",
    "        break;\n",
    "    end = time.time()\n",
    "\n",
    "    training_time = end-start\n",
    "\n",
    "    return training_time"
   ]
  },
  {
   "cell_type": "code",
   "execution_count": 63,
   "metadata": {},
   "outputs": [
    {
     "name": "stderr",
     "output_type": "stream",
     "text": [
      "WARNING:root:Setting up a new session...\n"
     ]
    },
    {
     "data": {
      "text/plain": [
       "'window_373ddf3e2298e6'"
      ]
     },
     "execution_count": 63,
     "metadata": {},
     "output_type": "execute_result"
    }
   ],
   "source": [
    "visdom.Visdom().line(torch.Tensor([[1, 2, 3], [4, 2, 6]]))"
   ]
  }
 ],
 "metadata": {
  "kernelspec": {
   "display_name": "DeepLearning3.7.1",
   "language": "python",
   "name": "deeplearning3.7.1"
  },
  "language_info": {
   "codemirror_mode": {
    "name": "ipython",
    "version": 3
   },
   "file_extension": ".py",
   "mimetype": "text/x-python",
   "name": "python",
   "nbconvert_exporter": "python",
   "pygments_lexer": "ipython3",
   "version": "3.7.1"
  }
 },
 "nbformat": 4,
 "nbformat_minor": 2
}
